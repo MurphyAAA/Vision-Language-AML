{
 "cells": [
  {
   "cell_type": "code",
   "execution_count": 4,
   "metadata": {
    "id": "PE7UwFGX0Rsr",
    "pycharm": {
     "name": "#%%\n"
    }
   },
   "outputs": [],
   "source": [
    "# %matplotlib inline\n",
    "import numpy as np\n",
    "import torch"
   ]
  },
  {
   "cell_type": "code",
   "execution_count": 1,
   "outputs": [
    {
     "data": {
      "text/plain": "['Wed Jan 18 14:39:17 2023       ',\n '+-----------------------------------------------------------------------------+',\n '| NVIDIA-SMI 513.38       Driver Version: 513.38       CUDA Version: 11.6     |',\n '|-------------------------------+----------------------+----------------------+',\n '| GPU  Name            TCC/WDDM | Bus-Id        Disp.A | Volatile Uncorr. ECC |',\n '| Fan  Temp  Perf  Pwr:Usage/Cap|         Memory-Usage | GPU-Util  Compute M. |',\n '|                               |                      |               MIG M. |',\n '|===============================+======================+======================|',\n '|   0  NVIDIA GeForce ... WDDM  | 00000000:01:00.0 Off |                  N/A |',\n '| N/A   54C    P8    15W /  N/A |      0MiB /  8192MiB |      0%      Default |',\n '|                               |                      |                  N/A |',\n '+-------------------------------+----------------------+----------------------+',\n '                                                                               ',\n '+-----------------------------------------------------------------------------+',\n '| Processes:                                                                  |',\n '|  GPU   GI   CI        PID   Type   Process name                  GPU Memory |',\n '|        ID   ID                                                   Usage      |',\n '|=============================================================================|',\n '|  No running processes found                                                 |',\n '+-----------------------------------------------------------------------------+']"
     },
     "execution_count": 1,
     "metadata": {},
     "output_type": "execute_result"
    }
   ],
   "source": [
    "!!nvidia-smi # CUDA info"
   ],
   "metadata": {
    "collapsed": false,
    "pycharm": {
     "name": "#%%\n"
    }
   }
  },
  {
   "cell_type": "code",
   "execution_count": 2,
   "outputs": [
    {
     "name": "stdout",
     "output_type": "stream",
     "text": [
      "3.9.13 (tags/v3.9.13:6de2ca5, May 17 2022, 16:36:42) [MSC v.1929 64 bit (AMD64)]\n"
     ]
    }
   ],
   "source": [
    "import sys\n",
    "print(sys.version)  # python version"
   ],
   "metadata": {
    "collapsed": false,
    "pycharm": {
     "name": "#%%\n"
    }
   }
  },
  {
   "cell_type": "code",
   "execution_count": 10,
   "outputs": [
    {
     "name": "stdout",
     "output_type": "stream",
     "text": [
      "torch.Size([2, 1, 2, 1, 2])\n",
      "torch.Size([2, 2, 2])\n"
     ]
    }
   ],
   "source": [
    "x = torch.zeros(2, 1, 2, 1, 2)\n",
    "# x.size()\n",
    "print(x.size())\n",
    "# y = torch.squeeze(x)\n",
    "x = x.squeeze()\n",
    "print(x.size())\n",
    "# y = torch.squeeze(x, 0)\n",
    "# y.size()\n",
    "# y = torch.squeeze(x, 1)\n",
    "# y.size()"
   ],
   "metadata": {
    "collapsed": false,
    "pycharm": {
     "name": "#%%\n"
    }
   }
  },
  {
   "cell_type": "code",
   "execution_count": null,
   "outputs": [],
   "source": [],
   "metadata": {
    "collapsed": false,
    "pycharm": {
     "name": "#%%\n"
    }
   }
  }
 ],
 "metadata": {
  "colab": {
   "authorship_tag": "ABX9TyPsWXovPxuVq9d0ieoIqwch",
   "provenance": []
  },
  "kernelspec": {
   "display_name": "Python 3",
   "language": "python",
   "name": "python3"
  },
  "language_info": {
   "codemirror_mode": {
    "name": "ipython",
    "version": 3
   },
   "file_extension": ".py",
   "mimetype": "text/x-python",
   "name": "python",
   "nbconvert_exporter": "python",
   "pygments_lexer": "ipython3",
   "version": "3.9.13"
  },
  "vscode": {
   "interpreter": {
    "hash": "2882e94d66aad5e55fe6e65134e02b3e277f76b9cb4e0176b4662c40b42ff0ed"
   }
  }
 },
 "nbformat": 4,
 "nbformat_minor": 0
}