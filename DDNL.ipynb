{
 "cells": [
  {
   "cell_type": "markdown",
   "source": [
    "****"
   ],
   "metadata": {
    "collapsed": false,
    "pycharm": {
     "name": "#%% md\n"
    }
   }
  },
  {
   "cell_type": "markdown",
   "source": [
    "# Envirement Setting"
   ],
   "metadata": {
    "collapsed": false,
    "pycharm": {
     "name": "#%% md\n"
    }
   }
  },
  {
   "cell_type": "markdown",
   "source": [
    "## python-3.9 & pip"
   ],
   "metadata": {
    "collapsed": false,
    "pycharm": {
     "name": "#%% md\n"
    }
   }
  },
  {
   "cell_type": "code",
   "execution_count": null,
   "outputs": [],
   "source": [
    "#install python 3.9\n",
    "!sudo apt-get update -y\n",
    "!sudo apt-get install python3.9\n",
    "\n",
    "#change alternatives\n",
    "!sudo update-alternatives --install /usr/bin/python3 python3 /usr/bin/python3.8 1\n",
    "!sudo update-alternatives --install /usr/bin/python3 python3 /usr/bin/python3.9 2 # Priority 2>1\n",
    "\n",
    "!python --version\n",
    "\n",
    "# pip\n",
    "!sudo apt-get install python3-pip\n",
    "!python3.9 -m pip install --upgrade pip\n",
    "!pip3 --version"
   ],
   "metadata": {
    "collapsed": false,
    "pycharm": {
     "name": "#%%\n"
    }
   }
  },
  {
   "cell_type": "markdown",
   "source": [
    "## requirement.txt"
   ],
   "metadata": {
    "collapsed": false,
    "pycharm": {
     "name": "#%% md\n"
    }
   }
  },
  {
   "cell_type": "code",
   "execution_count": null,
   "outputs": [],
   "source": [
    "# !python3.9 -m pip install 'torch==1.10.0+cu113'\n",
    "!python3.9 -m pip install 'torch==1.10.0'\n",
    "!python3.9 -m pip install 'torchvision==0.11.0'\n",
    "# !python3.9 -m pip install 'torchvision==0.11.0+cu113'\n",
    "!python3.9 -m pip install 'ftfy==6.1.1'\n",
    "!python3.9 -m pip install 'regex==2022.9.13'\n",
    "!python3.9 -m pip install 'tqdm==4.64.1'\n",
    "!python3.9 -m pip install 'git+https://github.com/openai/CLIP.git'\n",
    "!python3.9 -m pip install 'tensor'\n",
    "!python3.9 -m pip install --upgrade tensorflow\n",
    "\n",
    "!python3.9 -m pip show numpy\n",
    "!python3.9 -c 'import tensorflow as tf; print(tf.__version__)'\n"
   ],
   "metadata": {
    "collapsed": false,
    "pycharm": {
     "name": "#%%\n"
    }
   }
  },
  {
   "cell_type": "markdown",
   "source": [
    "## load code&data from **GitHub**"
   ],
   "metadata": {
    "collapsed": false,
    "pycharm": {
     "name": "#%% md\n"
    }
   }
  },
  {
   "cell_type": "code",
   "execution_count": null,
   "outputs": [],
   "source": [
    "import os\n",
    "\n",
    "# Clone github repository with data\n",
    "if not os.path.isdir('./Vision-Language-AML'):\n",
    "  !git clone https://github.com/MurphyAAA/Vision-Language-AML.git\n",
    "\n",
    "from google.colab import drive\n",
    "import shutil\n",
    "drive.mount('/content/drive')\n",
    "source1 = '/content/drive/MyDrive/Colab Notebooks/AML_project/kfold.zip'\n",
    "dest = '/content/Vision-Language-AML/data/PACS/'\n",
    "shutil.copy(source1,dest)\n",
    "\n",
    "import zipfile\n",
    "# path_to_zip_file = '/content/Vision-Language-AML/data/PACS/kfold.zip'\n",
    "path_of_zip_file = dest+'kfold.zip'\n",
    "directory_of_extract_to = dest\n",
    "with zipfile.ZipFile(path_of_zip_file, 'r') as zip_ref:\n",
    "  zip_ref.extractall(directory_of_extract_to)"
   ],
   "metadata": {
    "collapsed": false,
    "pycharm": {
     "name": "#%%\n"
    }
   }
  },
  {
   "cell_type": "markdown",
   "source": [
    "## cuda info"
   ],
   "metadata": {
    "collapsed": false,
    "pycharm": {
     "name": "#%% md\n"
    }
   }
  },
  {
   "cell_type": "code",
   "execution_count": null,
   "outputs": [],
   "source": [
    "import torch\n",
    "#use GPU if available\n",
    "DEVICE = torch.device(\"cuda:0\" if torch.cuda.is_available() else \"cpu\") #'cpu' # 'cuda' or 'cpu'\n",
    "print(DEVICE)\n",
    "if torch.cuda.is_available():\n",
    "  !nvidia-smi # CUDA info"
   ],
   "metadata": {
    "collapsed": false,
    "pycharm": {
     "name": "#%%\n"
    }
   }
  },
  {
   "cell_type": "markdown",
   "source": [
    "# Run"
   ],
   "metadata": {
    "collapsed": false,
    "pycharm": {
     "name": "#%% md\n"
    }
   }
  },
  {
   "cell_type": "code",
   "execution_count": null,
   "outputs": [],
   "source": [
    "!python3.9 ./Vision-Language-AML/main.py"
   ],
   "metadata": {
    "collapsed": false,
    "pycharm": {
     "name": "#%%\n"
    }
   }
  }
 ],
 "metadata": {
  "colab": {
   "authorship_tag": "ABX9TyPsWXovPxuVq9d0ieoIqwch",
   "provenance": []
  },
  "kernelspec": {
   "display_name": "Python 3",
   "language": "python",
   "name": "python3"
  },
  "language_info": {
   "codemirror_mode": {
    "name": "ipython",
    "version": 3
   },
   "file_extension": ".py",
   "mimetype": "text/x-python",
   "name": "python",
   "nbconvert_exporter": "python",
   "pygments_lexer": "ipython3",
   "version": "3.9.13"
  },
  "vscode": {
   "interpreter": {
    "hash": "2882e94d66aad5e55fe6e65134e02b3e277f76b9cb4e0176b4662c40b42ff0ed"
   }
  }
 },
 "nbformat": 4,
 "nbformat_minor": 0
}